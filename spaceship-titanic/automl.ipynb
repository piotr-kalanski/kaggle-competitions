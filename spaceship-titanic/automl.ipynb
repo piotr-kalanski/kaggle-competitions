{
 "cells": [
  {
   "cell_type": "code",
   "execution_count": 1,
   "metadata": {},
   "outputs": [
    {
     "name": "stderr",
     "output_type": "stream",
     "text": [
      "c:\\Users\\Pkalanski\\Anaconda3\\lib\\site-packages\\tpot\\builtins\\__init__.py:36: UserWarning: Warning: optional dependency `torch` is not available. - skipping import of NN models.\n",
      "  warnings.warn(\"Warning: optional dependency `torch` is not available. - skipping import of NN models.\")\n"
     ]
    }
   ],
   "source": [
    "import pandas as pd\n",
    "import numpy as np\n",
    "from tpot import TPOTClassifier"
   ]
  },
  {
   "cell_type": "code",
   "execution_count": 2,
   "metadata": {},
   "outputs": [],
   "source": [
    "train_df = pd.read_csv(\"data/train.csv\")"
   ]
  },
  {
   "cell_type": "code",
   "execution_count": 3,
   "metadata": {},
   "outputs": [],
   "source": [
    "from common import calculate_features"
   ]
  },
  {
   "cell_type": "code",
   "execution_count": 4,
   "metadata": {},
   "outputs": [],
   "source": [
    "train_features_df = calculate_features(train_df)"
   ]
  },
  {
   "cell_type": "code",
   "execution_count": 5,
   "metadata": {},
   "outputs": [],
   "source": [
    "X_train = train_features_df\n",
    "y_train = train_df[\"Transported\"]"
   ]
  },
  {
   "cell_type": "code",
   "execution_count": 6,
   "metadata": {},
   "outputs": [
    {
     "name": "stdout",
     "output_type": "stream",
     "text": [
      "Imputing missing values in feature set\n",
      "                                                                               \n",
      "Generation 1 - Current best internal CV score: 0.7920194733822528\n",
      "                                                                               \n",
      "Generation 2 - Current best internal CV score: 0.7920194733822528\n",
      "                                                                                 \n",
      "Generation 3 - Current best internal CV score: 0.7920194733822528\n",
      "                                                                                 \n",
      "Generation 4 - Current best internal CV score: 0.7923646977781101\n",
      "                                                                                 \n",
      "Generation 5 - Current best internal CV score: 0.7923646977781101\n",
      "                                                                                 \n",
      "Generation 6 - Current best internal CV score: 0.793285693204896\n",
      "                                                                               \n",
      "Generation 7 - Current best internal CV score: 0.7946651349829373\n",
      "                                                                               \n",
      "Generation 8 - Current best internal CV score: 0.7946651349829373\n",
      "                                                                               \n",
      "Generation 9 - Current best internal CV score: 0.7946651349829373\n",
      "                                                                                \n",
      "Generation 10 - Current best internal CV score: 0.7946651349829373\n",
      "                                                                                \n",
      "Best pipeline: XGBClassifier(SGDClassifier(StandardScaler(ZeroCount(input_matrix)), alpha=0.001, eta0=0.01, fit_intercept=False, l1_ratio=1.0, learning_rate=invscaling, loss=squared_hinge, penalty=elasticnet, power_t=0.1), learning_rate=0.5, max_depth=3, min_child_weight=15, n_estimators=100, n_jobs=1, subsample=0.7000000000000001, verbosity=0)\n"
     ]
    }
   ],
   "source": [
    "tpot = TPOTClassifier(generations=10, population_size=100, verbosity=2, periodic_checkpoint_folder=\"tpot_checkpoint/\", n_jobs=-1)\n",
    "tpot.fit(X_train, y_train)\n",
    "tpot.export('tpot_pipeline.py')"
   ]
  },
  {
   "cell_type": "code",
   "execution_count": null,
   "metadata": {},
   "outputs": [],
   "source": [
    "import numpy as np\n",
    "import pandas as pd\n",
    "from sklearn.ensemble import RandomForestClassifier\n",
    "from sklearn.model_selection import train_test_split\n",
    "from sklearn.impute import SimpleImputer\n",
    "\n",
    "# NOTE: Make sure that the outcome column is labeled 'target' in the data file\n",
    "tpot_data = pd.read_csv('PATH/TO/DATA/FILE', sep='COLUMN_SEPARATOR', dtype=np.float64)\n",
    "features = tpot_data.drop('target', axis=1)\n",
    "training_features, testing_features, training_target, testing_target = \\\n",
    "            train_test_split(features, tpot_data['target'], random_state=None)\n",
    "\n",
    "imputer = SimpleImputer(strategy=\"median\")\n",
    "imputer.fit(training_features)\n",
    "training_features = imputer.transform(training_features)\n",
    "testing_features = imputer.transform(testing_features)\n",
    "\n",
    "# Average CV score on the training set was: 0.793285693204896\n",
    "exported_pipeline = RandomForestClassifier(bootstrap=True, criterion=\"entropy\", max_features=0.6500000000000001, min_samples_leaf=18, min_samples_split=11, n_estimators=100)\n",
    "\n",
    "exported_pipeline.fit(training_features, training_target)\n",
    "results = exported_pipeline.predict(testing_features)"
   ]
  },
  {
   "cell_type": "code",
   "execution_count": null,
   "metadata": {},
   "outputs": [],
   "source": [
    "import numpy as np\n",
    "import pandas as pd\n",
    "from sklearn.linear_model import SGDClassifier\n",
    "from sklearn.model_selection import train_test_split\n",
    "from sklearn.pipeline import make_pipeline, make_union\n",
    "from sklearn.preprocessing import StandardScaler\n",
    "from tpot.builtins import StackingEstimator, ZeroCount\n",
    "from xgboost import XGBClassifier\n",
    "from sklearn.impute import SimpleImputer\n",
    "\n",
    "# NOTE: Make sure that the outcome column is labeled 'target' in the data file\n",
    "tpot_data = pd.read_csv('PATH/TO/DATA/FILE', sep='COLUMN_SEPARATOR', dtype=np.float64)\n",
    "features = tpot_data.drop('target', axis=1)\n",
    "training_features, testing_features, training_target, testing_target = \\\n",
    "            train_test_split(features, tpot_data['target'], random_state=None)\n",
    "\n",
    "imputer = SimpleImputer(strategy=\"median\")\n",
    "imputer.fit(training_features)\n",
    "training_features = imputer.transform(training_features)\n",
    "testing_features = imputer.transform(testing_features)\n",
    "\n",
    "# Average CV score on the training set was: 0.7946651349829373\n",
    "exported_pipeline = make_pipeline(\n",
    "    ZeroCount(),\n",
    "    StandardScaler(),\n",
    "    StackingEstimator(estimator=SGDClassifier(alpha=0.001, eta0=0.01, fit_intercept=False, l1_ratio=1.0, learning_rate=\"invscaling\", loss=\"squared_hinge\", penalty=\"elasticnet\", power_t=0.1)),\n",
    "    XGBClassifier(learning_rate=0.5, max_depth=3, min_child_weight=15, n_estimators=100, n_jobs=1, subsample=0.7000000000000001, verbosity=0)\n",
    ")\n",
    "\n",
    "exported_pipeline.fit(training_features, training_target)\n",
    "results = exported_pipeline.predict(testing_features)\n"
   ]
  }
 ],
 "metadata": {
  "kernelspec": {
   "display_name": "Python 3.9.7 ('base')",
   "language": "python",
   "name": "python3"
  },
  "language_info": {
   "codemirror_mode": {
    "name": "ipython",
    "version": 3
   },
   "file_extension": ".py",
   "mimetype": "text/x-python",
   "name": "python",
   "nbconvert_exporter": "python",
   "pygments_lexer": "ipython3",
   "version": "3.9.7"
  },
  "orig_nbformat": 4,
  "vscode": {
   "interpreter": {
    "hash": "025a0d68ed8a9c85b1b7dd038b1809ba1446caa53d4c0cc85de40bb0d7fe77a6"
   }
  }
 },
 "nbformat": 4,
 "nbformat_minor": 2
}
