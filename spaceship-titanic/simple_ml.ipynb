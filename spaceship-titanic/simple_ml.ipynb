{
 "cells": [
  {
   "cell_type": "code",
   "execution_count": 37,
   "metadata": {},
   "outputs": [],
   "source": [
    "import pandas as pd\n",
    "import numpy as np\n",
    "from sklearn.model_selection import cross_validate\n",
    "from sklearn import linear_model\n",
    "from sklearn.ensemble import GradientBoostingClassifier\n",
    "from sklearn.ensemble import RandomForestClassifier\n",
    "from xgboost import XGBClassifier"
   ]
  },
  {
   "cell_type": "code",
   "execution_count": 38,
   "metadata": {},
   "outputs": [],
   "source": [
    "training_df = pd.read_csv(\"data/train.csv\")"
   ]
  },
  {
   "cell_type": "code",
   "execution_count": 39,
   "metadata": {},
   "outputs": [],
   "source": [
    "y_train = training_df[\"Transported\"]"
   ]
  },
  {
   "cell_type": "code",
   "execution_count": 81,
   "metadata": {},
   "outputs": [],
   "source": [
    "def train_and_evaluate_model(model, X_train):\n",
    "    print(model)\n",
    "    scores = cross_validate(model, X_train, y_train, return_train_score=True, scoring=['accuracy'], return_estimator=True)\n",
    "    for key, values in scores.items():\n",
    "        if key not in ['fit_time', 'score_time', 'estimator']:\n",
    "            values = [round(v, 3) for v in values]\n",
    "            print(key, values)\n",
    "    if 'estimator' in scores:\n",
    "        estimators = scores['estimator']\n",
    "        first_estimator = estimators[0]\n",
    "        if \"feature_importances_\" in dir(first_estimator):\n",
    "            f = list(zip(X_train.columns, first_estimator.feature_importances_))\n",
    "            f.sort(key=lambda pair: -pair[1])\n",
    "            print(f)"
   ]
  },
  {
   "cell_type": "code",
   "execution_count": 70,
   "metadata": {},
   "outputs": [
    {
     "data": {
      "text/plain": [
       "[(5, 8), (2, 6), (7, 4), (1, 3), (8, 2), (3, 1)]"
      ]
     },
     "execution_count": 70,
     "metadata": {},
     "output_type": "execute_result"
    }
   ],
   "source": [
    "p = list(zip([1,3,2,7,5,8] , [3,1,6,4,8,2]))\n",
    "p.sort(key=lambda pair: -pair[1])\n",
    "p"
   ]
  },
  {
   "cell_type": "code",
   "execution_count": 41,
   "metadata": {},
   "outputs": [],
   "source": [
    "def train_and_evaluate_models(models, X_train):\n",
    "    for model in models:\n",
    "        train_and_evaluate_model(model, X_train)\n",
    "        print(\"\\n\")"
   ]
  },
  {
   "cell_type": "code",
   "execution_count": 42,
   "metadata": {},
   "outputs": [],
   "source": [
    "def calculate_features_and_train_and_evaluate_models(calculate_features, models):\n",
    "    X_train = calculate_features(training_df)\n",
    "    train_and_evaluate_models(models, X_train)"
   ]
  },
  {
   "cell_type": "code",
   "execution_count": 43,
   "metadata": {},
   "outputs": [],
   "source": [
    "BASIC_MODELS = [\n",
    "    linear_model.LogisticRegression(),\n",
    "    RandomForestClassifier(),\n",
    "    GradientBoostingClassifier(),\n",
    "]"
   ]
  },
  {
   "cell_type": "code",
   "execution_count": 46,
   "metadata": {},
   "outputs": [],
   "source": [
    "ADVANCED_MODELS = [\n",
    "    RandomForestClassifier(),\n",
    "    GradientBoostingClassifier(),\n",
    "    RandomForestClassifier(bootstrap=True, criterion=\"entropy\", max_features=0.6500000000000001, min_samples_leaf=18, min_samples_split=11, n_estimators=100),\n",
    "    XGBClassifier(learning_rate=0.5, max_depth=3, min_child_weight=15, n_estimators=100, n_jobs=1, subsample=0.7000000000000001, verbosity=0),\n",
    "]"
   ]
  },
  {
   "cell_type": "markdown",
   "metadata": {},
   "source": [
    "# Very simple models"
   ]
  },
  {
   "cell_type": "code",
   "execution_count": 11,
   "metadata": {},
   "outputs": [],
   "source": [
    "def calculate_features1(df: pd.DataFrame) -> pd.DataFrame:\n",
    "    df_copy = df.copy()\n",
    "\n",
    "    df_copy.Age = df_copy.Age.fillna(28)\n",
    "    df_copy[\"IsCryoSleep\"] = df_copy[\"CryoSleep\"].apply(lambda x: 1 if x else 0)\n",
    "\n",
    "    return df_copy[[\"IsCryoSleep\", \"Age\"]]"
   ]
  },
  {
   "cell_type": "code",
   "execution_count": 82,
   "metadata": {},
   "outputs": [
    {
     "name": "stdout",
     "output_type": "stream",
     "text": [
      "LogisticRegression()\n",
      "test_accuracy [0.706, 0.717, 0.712, 0.724, 0.729]\n",
      "train_accuracy [0.721, 0.718, 0.719, 0.716, 0.715]\n",
      "\n",
      "\n",
      "RandomForestClassifier()\n",
      "test_accuracy [0.721, 0.731, 0.718, 0.745, 0.739]\n",
      "train_accuracy [0.739, 0.737, 0.74, 0.733, 0.733]\n",
      "[('IsCryoSleep', 0.7855990697139554), ('Age', 0.21440093028604465)]\n",
      "\n",
      "\n",
      "GradientBoostingClassifier()\n",
      "test_accuracy [0.724, 0.732, 0.722, 0.751, 0.746]\n",
      "train_accuracy [0.739, 0.737, 0.739, 0.732, 0.733]\n",
      "[('IsCryoSleep', 0.8382136911592668), ('Age', 0.16178630884073325)]\n",
      "\n",
      "\n"
     ]
    }
   ],
   "source": [
    "calculate_features_and_train_and_evaluate_models(calculate_features1, BASIC_MODELS)"
   ]
  },
  {
   "cell_type": "code",
   "execution_count": 45,
   "metadata": {},
   "outputs": [
    {
     "name": "stdout",
     "output_type": "stream",
     "text": [
      "RandomForestClassifier(criterion='entropy', max_features=0.6500000000000001,\n",
      "                       min_samples_leaf=18, min_samples_split=11)\n",
      "fit_time [0.43084693 0.30322623 0.30119348 0.31019187 0.29518342]\n",
      "score_time [0.03490591 0.02689767 0.02792621 0.02792549 0.02795696]\n",
      "test_accuracy [0.72, 0.73, 0.72, 0.74, 0.75]\n",
      "train_accuracy [0.74, 0.74, 0.74, 0.73, 0.73]\n",
      "\n",
      "\n",
      "XGBClassifier(base_score=None, booster=None, callbacks=None,\n",
      "              colsample_bylevel=None, colsample_bynode=None,\n",
      "              colsample_bytree=None, early_stopping_rounds=None,\n",
      "              enable_categorical=False, eval_metric=None, gamma=None,\n",
      "              gpu_id=None, grow_policy=None, importance_type=None,\n",
      "              interaction_constraints=None, learning_rate=0.5, max_bin=None,\n",
      "              max_cat_to_onehot=None, max_delta_step=None, max_depth=3,\n",
      "              max_leaves=None, min_child_weight=15, missing=nan,\n",
      "              monotone_constraints=None, n_estimators=100, n_jobs=1,\n",
      "              num_parallel_tree=None, predictor=None, random_state=None,\n",
      "              reg_alpha=None, reg_lambda=None, ...)\n",
      "fit_time [1.05033541 0.16755176 0.15655398 0.16057062 0.15757751]\n",
      "score_time [0.00697994 0.00798106 0.00899887 0.00498581 0.00798249]\n",
      "test_accuracy [0.72, 0.73, 0.72, 0.75, 0.75]\n",
      "train_accuracy [0.74, 0.74, 0.74, 0.73, 0.73]\n",
      "\n",
      "\n"
     ]
    }
   ],
   "source": [
    "calculate_features_and_train_and_evaluate_models(calculate_features1, ADVANCED_MODELS)"
   ]
  },
  {
   "cell_type": "markdown",
   "metadata": {},
   "source": [
    "# Add more features"
   ]
  },
  {
   "cell_type": "code",
   "execution_count": 47,
   "metadata": {},
   "outputs": [],
   "source": [
    "def calculate_features2(df: pd.DataFrame) -> pd.DataFrame:\n",
    "    def map_age(df):\n",
    "        df.Age = df.Age.fillna(28)\n",
    "\n",
    "    def map_cryo_sleep(df):\n",
    "        df[\"IsCryoSleep\"] = df[\"CryoSleep\"].apply(lambda x: 1 if x else 0)\n",
    "\n",
    "    def map_cabin(df):\n",
    "        df[\"Cabin_deck\"] = df[\"Cabin\"].apply(lambda x: x.split(\"/\")[0] if type(x) == str else 'UNKNOWN')\n",
    "        df[\"Cabin_num\"] = df[\"Cabin\"].apply(lambda x: x.split(\"/\")[1] if type(x) == str else 0)\n",
    "        #df[\"Cabin_side\"] = df[\"Cabin\"].apply(lambda x: x.split(\"/\")[2] if type(x) == str else 'UNKNOWN')\n",
    "        df[\"Cabin_side_is_port\"] = df[\"Cabin\"].apply(lambda x: (1 if x.split(\"/\")[2] == 'P' else 0) if type(x) == str else 0)\n",
    "\n",
    "    def map_vip(df):\n",
    "        df[\"IsVIP\"] = df[\"VIP\"].apply(lambda x: 1 if x else 0)\n",
    "\n",
    "    df_copy = df.copy()\n",
    "    map_age(df_copy)\n",
    "    map_vip(df_copy)\n",
    "    map_cryo_sleep(df_copy)\n",
    "    map_cabin(df_copy)\n",
    "\n",
    "    mapped_features = [\n",
    "        \"IsCryoSleep\",\n",
    "        \"Age\",\n",
    "        \"IsVIP\",\n",
    "        #\"Cabin_num\",\n",
    "        \"Cabin_side_is_port\",\n",
    "    ]\n",
    "\n",
    "    dummy_features = [\n",
    "        \"HomePlanet\",\n",
    "        \"Destination\",\n",
    "        \"Cabin_deck\",\n",
    "    ]\n",
    "    features = mapped_features + dummy_features\n",
    "\n",
    "    return pd.get_dummies(df_copy[features], columns=dummy_features)"
   ]
  },
  {
   "cell_type": "code",
   "execution_count": 49,
   "metadata": {},
   "outputs": [
    {
     "name": "stdout",
     "output_type": "stream",
     "text": [
      "RandomForestClassifier()\n",
      "fit_time [0.67270708 0.56530857 0.54750323 0.55328465 0.51661706]\n",
      "score_time [0.04185009 0.04187584 0.04387999 0.04287863 0.04088998]\n",
      "test_accuracy [0.69, 0.68, 0.68, 0.7, 0.7]\n",
      "train_accuracy [0.85, 0.85, 0.85, 0.84, 0.85]\n",
      "\n",
      "\n",
      "GradientBoostingClassifier()\n",
      "fit_time [0.49377131 0.47273517 0.47995996 0.45977139 0.4667778 ]\n",
      "score_time [0.00596189 0.00398469 0.00398898 0.00398779 0.00398946]\n",
      "test_accuracy [0.73, 0.75, 0.73, 0.75, 0.74]\n",
      "train_accuracy [0.75, 0.75, 0.75, 0.75, 0.75]\n",
      "\n",
      "\n",
      "RandomForestClassifier(criterion='entropy', max_features=0.6500000000000001,\n",
      "                       min_samples_leaf=18, min_samples_split=11)\n",
      "fit_time [0.56003404 0.55648422 0.55056548 0.5634644  0.54949999]\n",
      "score_time [0.02795792 0.03494453 0.02790189 0.02895117 0.02994823]\n",
      "test_accuracy [0.73, 0.75, 0.74, 0.76, 0.74]\n",
      "train_accuracy [0.76, 0.75, 0.76, 0.75, 0.75]\n",
      "\n",
      "\n",
      "XGBClassifier(base_score=None, booster=None, callbacks=None,\n",
      "              colsample_bylevel=None, colsample_bynode=None,\n",
      "              colsample_bytree=None, early_stopping_rounds=None,\n",
      "              enable_categorical=False, eval_metric=None, gamma=None,\n",
      "              gpu_id=None, grow_policy=None, importance_type=None,\n",
      "              interaction_constraints=None, learning_rate=0.5, max_bin=None,\n",
      "              max_cat_to_onehot=None, max_delta_step=None, max_depth=3,\n",
      "              max_leaves=None, min_child_weight=15, missing=nan,\n",
      "              monotone_constraints=None, n_estimators=100, n_jobs=1,\n",
      "              num_parallel_tree=None, predictor=None, random_state=None,\n",
      "              reg_alpha=None, reg_lambda=None, ...)\n",
      "fit_time [0.41091323 0.40292859 0.41887426 0.40189147 0.40289497]\n",
      "score_time [0.01000428 0.00900912 0.01100349 0.00900912 0.0090096 ]\n",
      "test_accuracy [0.72, 0.74, 0.74, 0.74, 0.74]\n",
      "train_accuracy [0.76, 0.76, 0.76, 0.75, 0.76]\n",
      "\n",
      "\n"
     ]
    }
   ],
   "source": [
    "calculate_features_and_train_and_evaluate_models(calculate_features2, ADVANCED_MODELS)"
   ]
  },
  {
   "cell_type": "markdown",
   "metadata": {},
   "source": [
    "# Add number features as categories"
   ]
  },
  {
   "cell_type": "code",
   "execution_count": 51,
   "metadata": {},
   "outputs": [],
   "source": [
    "def calculate_features3(df: pd.DataFrame) -> pd.DataFrame:\n",
    "    def map_age(df):\n",
    "        df.Age = df.Age.fillna(28)\n",
    "\n",
    "    def map_cryo_sleep(df):\n",
    "        df[\"IsCryoSleep\"] = df[\"CryoSleep\"].apply(lambda x: 1 if x else 0)\n",
    "\n",
    "    def map_cabin(df):\n",
    "        df[\"Cabin_deck\"] = df[\"Cabin\"].apply(lambda x: x.split(\"/\")[0] if type(x) == str else 'UNKNOWN')\n",
    "        df[\"Cabin_num\"] = df[\"Cabin\"].apply(lambda x: x.split(\"/\")[1] if type(x) == str else 0)\n",
    "        #df[\"Cabin_side\"] = df[\"Cabin\"].apply(lambda x: x.split(\"/\")[2] if type(x) == str else 'UNKNOWN')\n",
    "        df[\"Cabin_side_is_port\"] = df[\"Cabin\"].apply(lambda x: (1 if x.split(\"/\")[2] == 'P' else 0) if type(x) == str else 0)\n",
    "\n",
    "    def map_vip(df):\n",
    "        df[\"IsVIP\"] = df[\"VIP\"].apply(lambda x: 1 if x else 0)\n",
    "\n",
    "    def map_numbers_to_categories(df, column: str, buckets: int):\n",
    "        df[column].fillna(np.mean(df[column]), inplace=True)\n",
    "        df[column] = pd.qcut(df[column], buckets, labels=False, duplicates=\"drop\")\n",
    "\n",
    "    numbers_to_categories_features = [\n",
    "        \"RoomService\",\n",
    "        \"FoodCourt\",\n",
    "        \"ShoppingMall\",\n",
    "        \"Spa\",\n",
    "        \"VRDeck\",\n",
    "    ]\n",
    "\n",
    "    mapped_features = [\n",
    "        \"IsCryoSleep\",\n",
    "        \"Age\",\n",
    "        \"IsVIP\",\n",
    "        #\"Cabin_num\",\n",
    "        \"Cabin_side_is_port\",\n",
    "    ]\n",
    "\n",
    "    dummy_features = [\n",
    "        \"HomePlanet\",\n",
    "        \"Destination\",\n",
    "        \"Cabin_deck\",\n",
    "    ]\n",
    "    features = mapped_features + dummy_features + numbers_to_categories_features\n",
    "\n",
    "    df_copy = df.copy()\n",
    "    map_age(df_copy)\n",
    "    map_vip(df_copy)\n",
    "    map_cryo_sleep(df_copy)\n",
    "    map_cabin(df_copy)\n",
    "    for c in numbers_to_categories_features:\n",
    "        map_numbers_to_categories(df_copy, c, 10)\n",
    "\n",
    "    return pd.get_dummies(df_copy[features], columns=dummy_features)"
   ]
  },
  {
   "cell_type": "code",
   "execution_count": 52,
   "metadata": {},
   "outputs": [
    {
     "name": "stdout",
     "output_type": "stream",
     "text": [
      "RandomForestClassifier()\n",
      "fit_time [0.70471215 0.58244205 0.59763241 0.58440852 0.58543968]\n",
      "score_time [0.04986596 0.04089117 0.0409162  0.04188871 0.04288363]\n",
      "test_accuracy [0.76, 0.76, 0.76, 0.77, 0.78]\n",
      "train_accuracy [0.96, 0.96, 0.95, 0.95, 0.95]\n",
      "\n",
      "\n",
      "GradientBoostingClassifier()\n",
      "fit_time [0.62336898 0.60937524 0.6163795  0.61136031 0.65728045]\n",
      "score_time [0.00497746 0.00598145 0.00498891 0.00398874 0.00697637]\n",
      "test_accuracy [0.78, 0.79, 0.78, 0.8, 0.79]\n",
      "train_accuracy [0.81, 0.8, 0.8, 0.8, 0.8]\n",
      "\n",
      "\n",
      "RandomForestClassifier(criterion='entropy', max_features=0.6500000000000001,\n",
      "                       min_samples_leaf=18, min_samples_split=11)\n",
      "fit_time [0.83077669 0.70607471 0.74004769 0.72306848 0.75301957]\n",
      "score_time [0.03390694 0.02792549 0.02792645 0.03091788 0.02889109]\n",
      "test_accuracy [0.77, 0.79, 0.79, 0.81, 0.8]\n",
      "train_accuracy [0.81, 0.81, 0.81, 0.81, 0.81]\n",
      "\n",
      "\n",
      "XGBClassifier(base_score=None, booster=None, callbacks=None,\n",
      "              colsample_bylevel=None, colsample_bynode=None,\n",
      "              colsample_bytree=None, early_stopping_rounds=None,\n",
      "              enable_categorical=False, eval_metric=None, gamma=None,\n",
      "              gpu_id=None, grow_policy=None, importance_type=None,\n",
      "              interaction_constraints=None, learning_rate=0.5, max_bin=None,\n",
      "              max_cat_to_onehot=None, max_delta_step=None, max_depth=3,\n",
      "              max_leaves=None, min_child_weight=15, missing=nan,\n",
      "              monotone_constraints=None, n_estimators=100, n_jobs=1,\n",
      "              num_parallel_tree=None, predictor=None, random_state=None,\n",
      "              reg_alpha=None, reg_lambda=None, ...)\n",
      "fit_time [0.5605092  0.54949355 0.49865866 0.48267555 0.4797163 ]\n",
      "score_time [0.00999951 0.01296568 0.0110023  0.00997353 0.00900936]\n",
      "test_accuracy [0.78, 0.79, 0.79, 0.8, 0.79]\n",
      "train_accuracy [0.82, 0.82, 0.82, 0.81, 0.82]\n",
      "\n",
      "\n"
     ]
    }
   ],
   "source": [
    "calculate_features_and_train_and_evaluate_models(calculate_features3, ADVANCED_MODELS)"
   ]
  },
  {
   "cell_type": "markdown",
   "metadata": {},
   "source": [
    "# Use numbers instead of categories"
   ]
  },
  {
   "cell_type": "code",
   "execution_count": 55,
   "metadata": {},
   "outputs": [],
   "source": [
    "def calculate_features4(df: pd.DataFrame) -> pd.DataFrame:\n",
    "    def map_age(df):\n",
    "        df.Age = df.Age.fillna(28)\n",
    "\n",
    "    def map_cryo_sleep(df):\n",
    "        df[\"IsCryoSleep\"] = df[\"CryoSleep\"].apply(lambda x: 1 if x else 0)\n",
    "\n",
    "    def map_cabin(df):\n",
    "        df[\"Cabin_deck\"] = df[\"Cabin\"].apply(lambda x: x.split(\"/\")[0] if type(x) == str else 'UNKNOWN')\n",
    "        df[\"Cabin_num\"] = df[\"Cabin\"].apply(lambda x: x.split(\"/\")[1] if type(x) == str else 0)\n",
    "        #df[\"Cabin_side\"] = df[\"Cabin\"].apply(lambda x: x.split(\"/\")[2] if type(x) == str else 'UNKNOWN')\n",
    "        df[\"Cabin_side_is_port\"] = df[\"Cabin\"].apply(lambda x: (1 if x.split(\"/\")[2] == 'P' else 0) if type(x) == str else 0)\n",
    "\n",
    "    def map_vip(df):\n",
    "        df[\"IsVIP\"] = df[\"VIP\"].apply(lambda x: 1 if x else 0)\n",
    "\n",
    "    def map_numbers(df, column: str):\n",
    "        df[column].fillna(np.mean(df[column]), inplace=True)\n",
    "\n",
    "    numbers_features = [\n",
    "        \"RoomService\",\n",
    "        \"FoodCourt\",\n",
    "        \"ShoppingMall\",\n",
    "        \"Spa\",\n",
    "        \"VRDeck\",\n",
    "    ]\n",
    "\n",
    "    mapped_features = [\n",
    "        \"IsCryoSleep\",\n",
    "        \"Age\",\n",
    "        \"IsVIP\",\n",
    "        #\"Cabin_num\",\n",
    "        \"Cabin_side_is_port\",\n",
    "    ]\n",
    "\n",
    "    dummy_features = [\n",
    "        \"HomePlanet\",\n",
    "        \"Destination\",\n",
    "        \"Cabin_deck\",\n",
    "    ]\n",
    "    features = mapped_features + dummy_features + numbers_features\n",
    "\n",
    "    df_copy = df.copy()\n",
    "    map_age(df_copy)\n",
    "    map_vip(df_copy)\n",
    "    map_cryo_sleep(df_copy)\n",
    "    map_cabin(df_copy)\n",
    "    for c in numbers_features:\n",
    "        map_numbers(df_copy, c)\n",
    "\n",
    "    return pd.get_dummies(df_copy[features], columns=dummy_features)"
   ]
  },
  {
   "cell_type": "code",
   "execution_count": 56,
   "metadata": {},
   "outputs": [
    {
     "name": "stdout",
     "output_type": "stream",
     "text": [
      "RandomForestClassifier()\n",
      "fit_time [0.81299877 0.64029837 0.63933039 0.63727593 0.64524126]\n",
      "score_time [0.03889012 0.04089069 0.03789902 0.04087806 0.037925  ]\n",
      "test_accuracy [0.78, 0.79, 0.8, 0.79, 0.79]\n",
      "train_accuracy [0.96, 0.96, 0.96, 0.96, 0.96]\n",
      "\n",
      "\n",
      "GradientBoostingClassifier()\n",
      "fit_time [0.83476496 0.81204486 0.80892754 0.82086062 0.83174539]\n",
      "score_time [0.00694895 0.0069828  0.00595808 0.00501108 0.00498652]\n",
      "test_accuracy [0.79, 0.79, 0.8, 0.82, 0.8]\n",
      "train_accuracy [0.82, 0.82, 0.82, 0.81, 0.82]\n",
      "\n",
      "\n",
      "RandomForestClassifier(criterion='entropy', max_features=0.6500000000000001,\n",
      "                       min_samples_leaf=18, min_samples_split=11)\n",
      "fit_time [1.17712474 1.17086172 1.15787101 1.20483208 1.13798118]\n",
      "score_time [0.03094435 0.02889729 0.02994394 0.03192019 0.02892303]\n",
      "test_accuracy [0.78, 0.79, 0.8, 0.81, 0.8]\n",
      "train_accuracy [0.83, 0.83, 0.82, 0.82, 0.83]\n",
      "\n",
      "\n",
      "XGBClassifier(base_score=None, booster=None, callbacks=None,\n",
      "              colsample_bylevel=None, colsample_bynode=None,\n",
      "              colsample_bytree=None, early_stopping_rounds=None,\n",
      "              enable_categorical=False, eval_metric=None, gamma=None,\n",
      "              gpu_id=None, grow_policy=None, importance_type=None,\n",
      "              interaction_constraints=None, learning_rate=0.5, max_bin=None,\n",
      "              max_cat_to_onehot=None, max_delta_step=None, max_depth=3,\n",
      "              max_leaves=None, min_child_weight=15, missing=nan,\n",
      "              monotone_constraints=None, n_estimators=100, n_jobs=1,\n",
      "              num_parallel_tree=None, predictor=None, random_state=None,\n",
      "              reg_alpha=None, reg_lambda=None, ...)\n",
      "fit_time [0.51958275 0.51558781 0.55441785 0.50361824 0.51440001]\n",
      "score_time [0.01000714 0.01097059 0.01000667 0.01000905 0.01000881]\n",
      "test_accuracy [0.77, 0.79, 0.8, 0.81, 0.8]\n",
      "train_accuracy [0.84, 0.83, 0.83, 0.83, 0.83]\n",
      "\n",
      "\n"
     ]
    }
   ],
   "source": [
    "calculate_features_and_train_and_evaluate_models(calculate_features4, ADVANCED_MODELS)"
   ]
  },
  {
   "cell_type": "markdown",
   "metadata": {},
   "source": [
    "# Fill missing values as 0 for numbers"
   ]
  },
  {
   "cell_type": "code",
   "execution_count": 91,
   "metadata": {},
   "outputs": [],
   "source": [
    "def calculate_features5(df: pd.DataFrame) -> pd.DataFrame:\n",
    "    def map_age(df):\n",
    "        df.Age = df.Age.fillna(28)\n",
    "\n",
    "    def map_cryo_sleep(df):\n",
    "        df[\"IsCryoSleep\"] = df[\"CryoSleep\"].apply(lambda x: 1 if x else 0)\n",
    "\n",
    "    def map_cabin(df):\n",
    "        df[\"Cabin_deck\"] = df[\"Cabin\"].apply(lambda x: x.split(\"/\")[0] if type(x) == str else 'UNKNOWN')\n",
    "        df[\"Cabin_num\"] = df[\"Cabin\"].apply(lambda x: x.split(\"/\")[1] if type(x) == str else 0)\n",
    "        #df[\"Cabin_side\"] = df[\"Cabin\"].apply(lambda x: x.split(\"/\")[2] if type(x) == str else 'UNKNOWN')\n",
    "        df[\"Cabin_side_is_port\"] = df[\"Cabin\"].apply(lambda x: (1 if x.split(\"/\")[2] == 'P' else 0) if type(x) == str else 0)\n",
    "\n",
    "    def map_vip(df):\n",
    "        df[\"IsVIP\"] = df[\"VIP\"].apply(lambda x: 1 if x else 0)\n",
    "\n",
    "    def map_numbers(df, column: str):\n",
    "        df[column].fillna(0, inplace=True)\n",
    "\n",
    "    numbers_features = [\n",
    "        \"RoomService\",\n",
    "        \"FoodCourt\",\n",
    "        \"ShoppingMall\",\n",
    "        \"Spa\",\n",
    "        \"VRDeck\",\n",
    "    ]\n",
    "\n",
    "    mapped_features = [\n",
    "        \"IsCryoSleep\",\n",
    "        \"Age\",\n",
    "        \"IsVIP\",\n",
    "        #\"Cabin_num\",\n",
    "        \"Cabin_side_is_port\",\n",
    "    ]\n",
    "\n",
    "    dummy_features = [\n",
    "        \"HomePlanet\",\n",
    "        \"Destination\",\n",
    "        \"Cabin_deck\",\n",
    "    ]\n",
    "    features = mapped_features + dummy_features + numbers_features\n",
    "\n",
    "    df_copy = df.copy()\n",
    "    map_age(df_copy)\n",
    "    map_vip(df_copy)\n",
    "    map_cryo_sleep(df_copy)\n",
    "    map_cabin(df_copy)\n",
    "    for c in numbers_features:\n",
    "        map_numbers(df_copy, c)\n",
    "\n",
    "    return pd.get_dummies(df_copy[features], columns=dummy_features)"
   ]
  },
  {
   "cell_type": "code",
   "execution_count": 92,
   "metadata": {},
   "outputs": [
    {
     "name": "stdout",
     "output_type": "stream",
     "text": [
      "RandomForestClassifier()\n",
      "test_accuracy [0.774, 0.781, 0.796, 0.793, 0.796]\n",
      "train_accuracy [0.956, 0.956, 0.95, 0.95, 0.952]\n",
      "[('Age', 0.17657344504395878), ('Spa', 0.1274962322106527), ('RoomService', 0.11267681382008955), ('VRDeck', 0.11001930587929913), ('IsCryoSleep', 0.10147819698811594), ('FoodCourt', 0.0992217493007079), ('ShoppingMall', 0.08987194086284706), ('Cabin_side_is_port', 0.02692721597253215), ('HomePlanet_Earth', 0.019609862035034554), ('HomePlanet_Europa', 0.017344347351772756), ('Cabin_deck_E', 0.01639477289433574), ('Cabin_deck_F', 0.01559463791116617), ('Cabin_deck_G', 0.014263476793453644), ('Destination_TRAPPIST-1e', 0.012690577829650858), ('HomePlanet_Mars', 0.012122174858481794), ('Destination_55 Cancri e', 0.010076206198743744), ('IsVIP', 0.007539419007381119), ('Cabin_deck_B', 0.007452830700262991), ('Destination_PSO J318.5-22', 0.0072891586044179476), ('Cabin_deck_C', 0.006060200232855393), ('Cabin_deck_D', 0.004253913834580959), ('Cabin_deck_UNKNOWN', 0.0027080453880338885), ('Cabin_deck_A', 0.0023142799350203435), ('Cabin_deck_T', 2.1196346604935513e-05)]\n",
      "\n",
      "\n",
      "GradientBoostingClassifier()\n",
      "test_accuracy [0.787, 0.791, 0.802, 0.814, 0.797]\n",
      "train_accuracy [0.819, 0.818, 0.816, 0.811, 0.818]\n",
      "[('IsCryoSleep', 0.37652756452016023), ('Spa', 0.12400903445793023), ('VRDeck', 0.10911426547414219), ('RoomService', 0.10374054017658405), ('FoodCourt', 0.0772859799605324), ('HomePlanet_Earth', 0.05375470475080086), ('ShoppingMall', 0.03157242861056641), ('Age', 0.028483590851927542), ('Cabin_side_is_port', 0.02528082353528374), ('HomePlanet_Europa', 0.02142063150491311), ('Cabin_deck_E', 0.020891370680941917), ('Cabin_deck_C', 0.00646569045271543), ('Destination_TRAPPIST-1e', 0.0056347251951832595), ('HomePlanet_Mars', 0.004717166611254864), ('Cabin_deck_F', 0.00444231990809712), ('Cabin_deck_G', 0.0028910376159454647), ('Destination_55 Cancri e', 0.00124880119150959), ('Cabin_deck_B', 0.0012020489173881323), ('Cabin_deck_UNKNOWN', 0.0005883252514528817), ('Cabin_deck_A', 0.00044531851085271326), ('IsVIP', 0.0001783914909403745), ('Destination_PSO J318.5-22', 0.00010524033087743536), ('Cabin_deck_D', 0.0), ('Cabin_deck_T', 0.0)]\n",
      "\n",
      "\n",
      "RandomForestClassifier(criterion='entropy', max_features=0.6500000000000001,\n",
      "                       min_samples_leaf=18, min_samples_split=11)\n",
      "test_accuracy [0.776, 0.778, 0.802, 0.814, 0.804]\n",
      "train_accuracy [0.832, 0.828, 0.823, 0.825, 0.828]\n",
      "[('IsCryoSleep', 0.2733321360936566), ('Spa', 0.13081961087541313), ('RoomService', 0.10414557980317013), ('VRDeck', 0.10391915531398853), ('FoodCourt', 0.0853733166294976), ('Age', 0.06355923769647681), ('HomePlanet_Earth', 0.05024379723208839), ('ShoppingMall', 0.04844785884322841), ('Cabin_deck_E', 0.028308020195994644), ('Cabin_side_is_port', 0.027850184194035964), ('HomePlanet_Europa', 0.024294961387410864), ('Cabin_deck_F', 0.015140432729042873), ('Cabin_deck_G', 0.012572665675471042), ('HomePlanet_Mars', 0.009944413043345878), ('Destination_TRAPPIST-1e', 0.007745590151195728), ('Cabin_deck_C', 0.005282778582092012), ('Destination_55 Cancri e', 0.0035169532332139097), ('Cabin_deck_B', 0.0016549278312617296), ('Destination_PSO J318.5-22', 0.0015452861121026497), ('Cabin_deck_A', 0.0013151958390080524), ('Cabin_deck_D', 0.0006726665415700676), ('Cabin_deck_UNKNOWN', 0.00022733833562073687), ('IsVIP', 8.789366111424123e-05), ('Cabin_deck_T', 0.0)]\n",
      "\n",
      "\n",
      "XGBClassifier(base_score=None, booster=None, callbacks=None,\n",
      "              colsample_bylevel=None, colsample_bynode=None,\n",
      "              colsample_bytree=None, early_stopping_rounds=None,\n",
      "              enable_categorical=False, eval_metric=None, gamma=None,\n",
      "              gpu_id=None, grow_policy=None, importance_type=None,\n",
      "              interaction_constraints=None, learning_rate=0.5, max_bin=None,\n",
      "              max_cat_to_onehot=None, max_delta_step=None, max_depth=3,\n",
      "              max_leaves=None, min_child_weight=15, missing=nan,\n",
      "              monotone_constraints=None, n_estimators=100, n_jobs=1,\n",
      "              num_parallel_tree=None, predictor=None, random_state=None,\n",
      "              reg_alpha=None, reg_lambda=None, ...)\n",
      "test_accuracy [0.78, 0.798, 0.799, 0.809, 0.797]\n",
      "train_accuracy [0.834, 0.832, 0.834, 0.831, 0.831]\n",
      "[('IsCryoSleep', 0.4348163), ('HomePlanet_Europa', 0.10939171), ('HomePlanet_Earth', 0.098669775), ('Cabin_deck_E', 0.033149675), ('Spa', 0.030797558), ('Cabin_side_is_port', 0.02936869), ('VRDeck', 0.02875652), ('RoomService', 0.028180081), ('Cabin_deck_C', 0.025417438), ('HomePlanet_Mars', 0.024657102), ('FoodCourt', 0.020023985), ('Destination_TRAPPIST-1e', 0.01953953), ('Cabin_deck_D', 0.016892489), ('Destination_55 Cancri e', 0.015522381), ('ShoppingMall', 0.014803335), ('Cabin_deck_G', 0.013865854), ('Cabin_deck_F', 0.013634488), ('Cabin_deck_B', 0.0119008245), ('Age', 0.010832682), ('IsVIP', 0.009940616), ('Destination_PSO J318.5-22', 0.009839027), ('Cabin_deck_A', 0.0), ('Cabin_deck_T', 0.0), ('Cabin_deck_UNKNOWN', 0.0)]\n",
      "\n",
      "\n"
     ]
    }
   ],
   "source": [
    "calculate_features_and_train_and_evaluate_models(calculate_features5, ADVANCED_MODELS)"
   ]
  },
  {
   "cell_type": "markdown",
   "metadata": {},
   "source": [
    "# Remove some features"
   ]
  },
  {
   "cell_type": "code",
   "execution_count": 87,
   "metadata": {},
   "outputs": [],
   "source": [
    "def calculate_features6(df: pd.DataFrame) -> pd.DataFrame:\n",
    "    def map_age(df):\n",
    "        df.Age = df.Age.fillna(28)\n",
    "\n",
    "    def map_cryo_sleep(df):\n",
    "        df[\"IsCryoSleep\"] = df[\"CryoSleep\"].apply(lambda x: 1 if x else 0)\n",
    "\n",
    "    def map_cabin(df):\n",
    "        df[\"Cabin_deck\"] = df[\"Cabin\"].apply(lambda x: x.split(\"/\")[0] if type(x) == str else 'UNKNOWN')\n",
    "        df[\"Cabin_num\"] = df[\"Cabin\"].apply(lambda x: x.split(\"/\")[1] if type(x) == str else 0)\n",
    "        #df[\"Cabin_side\"] = df[\"Cabin\"].apply(lambda x: x.split(\"/\")[2] if type(x) == str else 'UNKNOWN')\n",
    "        df[\"Cabin_side_is_port\"] = df[\"Cabin\"].apply(lambda x: (1 if x.split(\"/\")[2] == 'P' else 0) if type(x) == str else 0)\n",
    "\n",
    "    def map_vip(df):\n",
    "        df[\"IsVIP\"] = df[\"VIP\"].apply(lambda x: 1 if x else 0)\n",
    "\n",
    "    def map_numbers(df, column: str):\n",
    "        df[column].fillna(0, inplace=True)\n",
    "\n",
    "    numbers_features = [\n",
    "        \"RoomService\",\n",
    "        \"FoodCourt\",\n",
    "        \"ShoppingMall\",\n",
    "        \"Spa\",\n",
    "        \"VRDeck\",\n",
    "    ]\n",
    "\n",
    "    mapped_features = [\n",
    "        \"IsCryoSleep\",\n",
    "        \"Age\",\n",
    "        #\"IsVIP\",\n",
    "        #\"Cabin_num\",\n",
    "        \"Cabin_side_is_port\",\n",
    "    ]\n",
    "\n",
    "    dummy_features = [\n",
    "        # \"HomePlanet\",\n",
    "        #\"Destination\",\n",
    "        \"Cabin_deck\",\n",
    "    ]\n",
    "    features = mapped_features + dummy_features + numbers_features\n",
    "\n",
    "    df_copy = df.copy()\n",
    "    map_age(df_copy)\n",
    "    map_vip(df_copy)\n",
    "    map_cryo_sleep(df_copy)\n",
    "    map_cabin(df_copy)\n",
    "    for c in numbers_features:\n",
    "        map_numbers(df_copy, c)\n",
    "\n",
    "    return pd.get_dummies(df_copy[features], columns=dummy_features)"
   ]
  },
  {
   "cell_type": "code",
   "execution_count": 88,
   "metadata": {},
   "outputs": [
    {
     "name": "stdout",
     "output_type": "stream",
     "text": [
      "RandomForestClassifier()\n",
      "test_accuracy [0.773, 0.777, 0.79, 0.799, 0.785]\n",
      "train_accuracy [0.937, 0.939, 0.932, 0.931, 0.936]\n",
      "[('Age', 0.16055714833445697), ('Spa', 0.14272857548569057), ('RoomService', 0.14057050965429477), ('VRDeck', 0.128020366459228), ('FoodCourt', 0.11324327661702899), ('ShoppingMall', 0.09784455635217958), ('IsCryoSleep', 0.0969832061224997), ('Cabin_deck_G', 0.026954092879298557), ('Cabin_side_is_port', 0.025148250098383746), ('Cabin_deck_F', 0.015776210252944796), ('Cabin_deck_E', 0.015399171480460218), ('Cabin_deck_C', 0.012629033701270309), ('Cabin_deck_B', 0.011854902521568584), ('Cabin_deck_D', 0.005357099967368431), ('Cabin_deck_A', 0.0034910447903985214), ('Cabin_deck_UNKNOWN', 0.0033911176655547414), ('Cabin_deck_T', 5.143761737355085e-05)]\n",
      "\n",
      "\n",
      "GradientBoostingClassifier()\n",
      "test_accuracy [0.78, 0.792, 0.794, 0.812, 0.796]\n",
      "train_accuracy [0.818, 0.817, 0.815, 0.811, 0.817]\n",
      "[('IsCryoSleep', 0.38357926622699845), ('Spa', 0.1233323139929885), ('VRDeck', 0.11945647983768021), ('RoomService', 0.10863289189213003), ('FoodCourt', 0.0835460314215879), ('Cabin_deck_G', 0.049056039128118116), ('Age', 0.03307971999485658), ('ShoppingMall', 0.03297599076457035), ('Cabin_side_is_port', 0.02524136267109865), ('Cabin_deck_C', 0.014342285918250956), ('Cabin_deck_E', 0.014103637787662113), ('Cabin_deck_B', 0.008666968219217943), ('Cabin_deck_F', 0.0023170338223243657), ('Cabin_deck_UNKNOWN', 0.0013997704548871963), ('Cabin_deck_A', 0.00027020786762879613), ('Cabin_deck_D', 0.0), ('Cabin_deck_T', 0.0)]\n",
      "\n",
      "\n",
      "RandomForestClassifier(criterion='entropy', max_features=0.6500000000000001,\n",
      "                       min_samples_leaf=18, min_samples_split=11)\n",
      "test_accuracy [0.783, 0.779, 0.8, 0.814, 0.799]\n",
      "train_accuracy [0.827, 0.823, 0.823, 0.818, 0.826]\n",
      "[('IsCryoSleep', 0.28323304184400777), ('Spa', 0.1359803186013412), ('VRDeck', 0.11455190144845344), ('RoomService', 0.11247956445366021), ('FoodCourt', 0.09115211565286091), ('Age', 0.061250175123021056), ('Cabin_deck_G', 0.05551104525324647), ('ShoppingMall', 0.05073364342859697), ('Cabin_deck_E', 0.028837374250202486), ('Cabin_side_is_port', 0.028451767579861124), ('Cabin_deck_F', 0.011209468743802218), ('Cabin_deck_C', 0.01076251785067872), ('Cabin_deck_B', 0.008317102836030465), ('Cabin_deck_UNKNOWN', 0.0051680388230137785), ('Cabin_deck_D', 0.0014097688083635456), ('Cabin_deck_A', 0.0009521553028595595), ('Cabin_deck_T', 0.0)]\n",
      "\n",
      "\n",
      "XGBClassifier(base_score=None, booster=None, callbacks=None,\n",
      "              colsample_bylevel=None, colsample_bynode=None,\n",
      "              colsample_bytree=None, early_stopping_rounds=None,\n",
      "              enable_categorical=False, eval_metric=None, gamma=None,\n",
      "              gpu_id=None, grow_policy=None, importance_type=None,\n",
      "              interaction_constraints=None, learning_rate=0.5, max_bin=None,\n",
      "              max_cat_to_onehot=None, max_delta_step=None, max_depth=3,\n",
      "              max_leaves=None, min_child_weight=15, missing=nan,\n",
      "              monotone_constraints=None, n_estimators=100, n_jobs=1,\n",
      "              num_parallel_tree=None, predictor=None, random_state=None,\n",
      "              reg_alpha=None, reg_lambda=None, ...)\n",
      "test_accuracy [0.78, 0.787, 0.8, 0.805, 0.788]\n",
      "train_accuracy [0.827, 0.83, 0.829, 0.829, 0.832]\n",
      "[('IsCryoSleep', 0.3542928), ('Cabin_deck_C', 0.09910801), ('Cabin_deck_G', 0.08598087), ('Cabin_deck_B', 0.07996936), ('Cabin_deck_E', 0.060857534), ('VRDeck', 0.058939975), ('RoomService', 0.052414), ('Spa', 0.049191423), ('Cabin_side_is_port', 0.04320685), ('FoodCourt', 0.03063189), ('ShoppingMall', 0.024936646), ('Cabin_deck_F', 0.022427484), ('Cabin_deck_D', 0.020243706), ('Age', 0.01779941), ('Cabin_deck_A', 0.0), ('Cabin_deck_T', 0.0), ('Cabin_deck_UNKNOWN', 0.0)]\n",
      "\n",
      "\n"
     ]
    }
   ],
   "source": [
    "calculate_features_and_train_and_evaluate_models(calculate_features6, ADVANCED_MODELS)"
   ]
  },
  {
   "cell_type": "code",
   "execution_count": null,
   "metadata": {},
   "outputs": [],
   "source": []
  }
 ],
 "metadata": {
  "kernelspec": {
   "display_name": "Python 3.8.5 64-bit (conda)",
   "language": "python",
   "name": "python3"
  },
  "language_info": {
   "codemirror_mode": {
    "name": "ipython",
    "version": 3
   },
   "file_extension": ".py",
   "mimetype": "text/x-python",
   "name": "python",
   "nbconvert_exporter": "python",
   "pygments_lexer": "ipython3",
   "version": "3.8.5"
  },
  "orig_nbformat": 4,
  "vscode": {
   "interpreter": {
    "hash": "3896d6b9bbf0a9f2bd9f8750ed2e51c1d9223af63e53ef317da329cca0ef0861"
   }
  }
 },
 "nbformat": 4,
 "nbformat_minor": 2
}
