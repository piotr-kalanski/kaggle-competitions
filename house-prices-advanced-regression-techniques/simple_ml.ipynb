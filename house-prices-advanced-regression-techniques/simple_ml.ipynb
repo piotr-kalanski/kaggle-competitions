{
 "cells": [
  {
   "cell_type": "code",
   "execution_count": 4,
   "metadata": {},
   "outputs": [],
   "source": [
    "import pandas as pd\n",
    "import numpy as np\n",
    "import math\n",
    "from sklearn.metrics import mean_squared_error, r2_score\n",
    "from sklearn.model_selection import cross_validate\n",
    "from sklearn import linear_model\n",
    "from sklearn.ensemble import GradientBoostingRegressor\n",
    "from sklearn.ensemble import RandomForestRegressor"
   ]
  },
  {
   "cell_type": "code",
   "execution_count": 3,
   "metadata": {},
   "outputs": [],
   "source": [
    "training_df = pd.read_csv(\"data/train.csv\")"
   ]
  },
  {
   "cell_type": "code",
   "execution_count": 19,
   "metadata": {},
   "outputs": [],
   "source": [
    "def evaluate_model(model, test_data, test_labels):\n",
    "    y_true = test_labels\n",
    "    y_pred = model.predict(test_data)\n",
    "    mse = mean_squared_error(y_true, y_pred)\n",
    "    return {\n",
    "        \"model\": str(model),\n",
    "        \"rmse\": round(math.sqrt(mse), 0),\n",
    "        \"mean_squared_error\": round(mse, 0),\n",
    "        \"r2_score\": 100000*r2_score(y_true, y_pred) // 100 / 10,\n",
    "        \"feature_importances\": model.feature_importances_ if \"feature_importances_\" in dir(model) else None\n",
    "    }"
   ]
  },
  {
   "cell_type": "code",
   "execution_count": 35,
   "metadata": {},
   "outputs": [],
   "source": [
    "y_train = training_df[\"SalePrice\"]"
   ]
  },
  {
   "cell_type": "code",
   "execution_count": 22,
   "metadata": {},
   "outputs": [],
   "source": [
    "def train_and_evaluate_model(model, X_train):\n",
    "    #model.fit(X_train, y_train)\n",
    "    #print(evaluate_model(model, X_train, y_train))\n",
    "    print(model)\n",
    "    scores = cross_validate(model, X_train, y_train, return_train_score=True, scoring=['r2', 'neg_mean_squared_error', 'neg_root_mean_squared_error'])\n",
    "    for key, values in scores.items():\n",
    "        if key not in ['fit_time', 'score_time']:\n",
    "            values = [round(v, 2) for v in values]\n",
    "        print(key, values)"
   ]
  },
  {
   "cell_type": "code",
   "execution_count": 26,
   "metadata": {},
   "outputs": [],
   "source": [
    "def train_and_evaluate_models(models, X_train):\n",
    "    for model in models:\n",
    "        train_and_evaluate_model(model, X_train)\n",
    "        print(\"\\n\")"
   ]
  },
  {
   "cell_type": "code",
   "execution_count": 27,
   "metadata": {},
   "outputs": [],
   "source": [
    "def calculate_features_and_train_and_evaluate_models(calculate_features, models):\n",
    "    X_train = calculate_features(training_df)\n",
    "    train_and_evaluate_models(models, X_train)"
   ]
  },
  {
   "cell_type": "code",
   "execution_count": 28,
   "metadata": {},
   "outputs": [],
   "source": [
    "BASIC_MODELS = [\n",
    "    linear_model.LinearRegression(),\n",
    "    RandomForestRegressor(),\n",
    "    GradientBoostingRegressor(),\n",
    "]"
   ]
  },
  {
   "cell_type": "markdown",
   "metadata": {},
   "source": [
    "# Very simple models"
   ]
  },
  {
   "cell_type": "code",
   "execution_count": 9,
   "metadata": {},
   "outputs": [],
   "source": [
    "def calculate_features1(df: pd.DataFrame) -> pd.DataFrame:\n",
    "    return df[[\"OverallQual\", \"OverallCond\"]]"
   ]
  },
  {
   "cell_type": "code",
   "execution_count": 10,
   "metadata": {},
   "outputs": [],
   "source": [
    "X_train = calculate_features1(training_df)\n",
    "y_train = training_df[\"SalePrice\"]"
   ]
  },
  {
   "cell_type": "code",
   "execution_count": 23,
   "metadata": {},
   "outputs": [
    {
     "output_type": "stream",
     "name": "stdout",
     "text": [
      "LinearRegression()\nfit_time [0.00397825 0.00298905 0.00199389 0.00299144 0.00199652]\nscore_time [0.00498748 0.00199771 0.00399113 0.00199461 0.00199485]\ntest_r2 [0.66, 0.64, 0.6, 0.61, 0.61]\ntrain_r2 [0.62, 0.62, 0.63, 0.63, 0.63]\ntest_neg_mean_squared_error [-1869947388.22, -2371552540.23, -3045971941.0, -1967592757.16, -2638370572.3]\ntrain_neg_mean_squared_error [-2483581473.94, -2362056918.3, -2193403000.48, -2462508420.21, -2292364532.38]\ntest_neg_root_mean_squared_error [-43242.89, -48698.59, -55190.32, -44357.56, -51365.07]\ntrain_neg_root_mean_squared_error [-49835.54, -48601.0, -46833.78, -49623.67, -47878.64]\n"
     ]
    }
   ],
   "source": [
    "train_and_evaluate_model(linear_model.LinearRegression(), X_train)"
   ]
  },
  {
   "cell_type": "code",
   "execution_count": 24,
   "metadata": {},
   "outputs": [
    {
     "output_type": "stream",
     "name": "stdout",
     "text": [
      "RandomForestRegressor()\n",
      "fit_time [0.14564228 0.13561916 0.1266923  0.1217072  0.123667  ]\n",
      "score_time [0.00997353 0.00897598 0.00897503 0.0079782  0.00897622]\n",
      "test_r2 [0.71, 0.66, 0.66, 0.66, 0.64]\n",
      "train_r2 [0.7, 0.71, 0.7, 0.71, 0.71]\n",
      "test_neg_mean_squared_error [-1623357633.63, -2264181229.37, -2611108465.7, -1726407137.26, -2401094967.63]\n",
      "train_neg_mean_squared_error [-1945489613.19, -1837406234.09, -1803024389.42, -1937881628.73, -1774043339.46]\n",
      "test_neg_root_mean_squared_error [-40290.91, -47583.41, -51099.01, -41550.06, -49000.97]\n",
      "train_neg_root_mean_squared_error [-44107.7, -42864.98, -42462.03, -44021.38, -42119.39]\n"
     ]
    }
   ],
   "source": [
    "train_and_evaluate_model(RandomForestRegressor(), X_train)"
   ]
  },
  {
   "cell_type": "code",
   "execution_count": 25,
   "metadata": {},
   "outputs": [
    {
     "output_type": "stream",
     "name": "stdout",
     "text": [
      "GradientBoostingRegressor()\n",
      "fit_time [0.07580781 0.04191327 0.0389266  0.04384899 0.04587436]\n",
      "score_time [0.00398779 0.00199223 0.00299501 0.00399017 0.00299978]\n",
      "test_r2 [0.7, 0.68, 0.65, 0.66, 0.64]\n",
      "train_r2 [0.7, 0.71, 0.7, 0.71, 0.71]\n",
      "test_neg_mean_squared_error [-1675516371.89, -2133446985.98, -2638065279.51, -1730202108.05, -2401596672.73]\n",
      "train_neg_mean_squared_error [-1937310081.36, -1832714195.1, -1812390909.36, -1928879451.06, -1769197043.77]\n",
      "test_neg_root_mean_squared_error [-40933.07, -46189.25, -51362.1, -41595.7, -49006.09]\n",
      "train_neg_root_mean_squared_error [-44014.88, -42810.21, -42572.18, -43919.01, -42061.82]\n"
     ]
    }
   ],
   "source": [
    "train_and_evaluate_model(GradientBoostingRegressor(), X_train)"
   ]
  },
  {
   "cell_type": "markdown",
   "metadata": {},
   "source": [
    "# Add more features"
   ]
  },
  {
   "cell_type": "code",
   "execution_count": 29,
   "metadata": {},
   "outputs": [],
   "source": [
    "def calculate_features2(df: pd.DataFrame) -> pd.DataFrame:\n",
    "    return df[[\n",
    "        \"LotArea\",\n",
    "        \"OverallQual\",\n",
    "        \"YearBuilt\",\n",
    "        \"GrLivArea\",\n",
    "        \"GarageCars\",\n",
    "        \"OpenPorchSF\",\n",
    "    ]]"
   ]
  },
  {
   "cell_type": "code",
   "execution_count": 30,
   "metadata": {},
   "outputs": [
    {
     "output_type": "stream",
     "name": "stdout",
     "text": [
      "LinearRegression()\n",
      "fit_time [0.0069809  0.00398088 0.00598478 0.00299144 0.00199389]\n",
      "score_time [0.00698066 0.00298858 0.00501323 0.00299215 0.00199413]\n",
      "test_r2 [0.8, 0.77, 0.76, 0.75, 0.69]\n",
      "train_r2 [0.75, 0.76, 0.76, 0.76, 0.78]\n",
      "test_neg_mean_squared_error [-1081535146.52, -1516818236.42, -1799936654.85, -1257777686.06, -2094910913.4]\n",
      "train_neg_mean_squared_error [-1618704024.54, -1515621866.63, -1450586247.02, -1575816882.85, -1372433080.54]\n",
      "test_neg_root_mean_squared_error [-32886.7, -38946.35, -42425.66, -35465.16, -45770.2]\n",
      "train_neg_root_mean_squared_error [-40233.12, -38930.99, -38086.56, -39696.56, -37046.36]\n",
      "\n",
      "\n",
      "RandomForestRegressor()\n",
      "fit_time [0.43087959 0.40591335 0.39372253 0.413692   0.36888576]\n",
      "score_time [0.01193523 0.01895118 0.01394153 0.01396728 0.0119946 ]\n",
      "test_r2 [0.84, 0.79, 0.85, 0.85, 0.79]\n",
      "train_r2 [0.98, 0.98, 0.97, 0.97, 0.97]\n",
      "test_neg_mean_squared_error [-863694211.82, -1392514966.74, -1154121163.03, -772178720.97, -1394579839.71]\n",
      "train_neg_mean_squared_error [-154654975.48, -151922556.01, -152200479.78, -174452657.34, -174493054.74]\n",
      "test_neg_root_mean_squared_error [-29388.67, -37316.42, -33972.36, -27788.1, -37344.07]\n",
      "train_neg_root_mean_squared_error [-12436.04, -12325.69, -12336.96, -13208.05, -13209.58]\n",
      "\n",
      "\n",
      "GradientBoostingRegressor()\n",
      "fit_time [0.11867619 0.1296854  0.1196537  0.12070894 0.11568213]\n",
      "score_time [0.00199628 0.00496244 0.00299191 0.00199366 0.00299311]\n",
      "test_r2 [0.86, 0.76, 0.87, 0.86, 0.84]\n",
      "train_r2 [0.92, 0.92, 0.92, 0.92, 0.93]\n",
      "test_neg_mean_squared_error [-760556460.52, -1606855816.61, -1008648587.59, -725173941.95, -1094218341.77]\n",
      "train_neg_mean_squared_error [-497986685.2, -469978350.7, -465868362.92, -519412545.01, -464054182.31]\n",
      "test_neg_root_mean_squared_error [-27578.19, -40085.61, -31759.23, -26929.05, -33078.97]\n",
      "train_neg_root_mean_squared_error [-22315.62, -21678.98, -21583.98, -22790.62, -21541.92]\n",
      "\n",
      "\n"
     ]
    }
   ],
   "source": [
    "calculate_features_and_train_and_evaluate_models(calculate_features2, BASIC_MODELS)"
   ]
  },
  {
   "cell_type": "markdown",
   "metadata": {},
   "source": [
    "# Check all features"
   ]
  },
  {
   "cell_type": "code",
   "execution_count": 50,
   "metadata": {},
   "outputs": [],
   "source": [
    "def calculate_features3(df: pd.DataFrame) -> pd.DataFrame:\n",
    "    return pd.get_dummies(df.drop(columns=[\n",
    "        'SalePrice',\n",
    "        'Id',\n",
    "\n",
    "        # TODO - columns with missing values:\n",
    "        'LotFrontage',\n",
    "        'Alley',\n",
    "        'BsmtQual',\n",
    "        'BsmtExposure',\n",
    "        'BsmtFinType1',\n",
    "        'BsmtFinType2',\n",
    "        'FireplaceQu',\n",
    "        'GarageType',\n",
    "        'LotFrontage',\n",
    "        'GarageYrBlt',\n",
    "        'GarageFinish',\n",
    "        'GarageQual',\n",
    "        'GarageCond',\n",
    "        'PoolQC',\n",
    "        'Fence',\n",
    "        'MiscFeature',\n",
    "]))"
   ]
  },
  {
   "cell_type": "code",
   "execution_count": 51,
   "metadata": {},
   "outputs": [
    {
     "ename": "ValueError",
     "evalue": "Input contains NaN, infinity or a value too large for dtype('float32').",
     "output_type": "error",
     "traceback": [
      "\u001b[1;31m---------------------------------------------------------------------------\u001b[0m",
      "\u001b[1;31mValueError\u001b[0m                                Traceback (most recent call last)",
      "\u001b[1;32mC:\\Users\\PKALAN~1\\AppData\\Local\\Temp/ipykernel_18028/1907935362.py\u001b[0m in \u001b[0;36m<module>\u001b[1;34m\u001b[0m\n\u001b[1;32m----> 1\u001b[1;33m \u001b[0mcalculate_features_and_train_and_evaluate_models\u001b[0m\u001b[1;33m(\u001b[0m\u001b[0mcalculate_features3\u001b[0m\u001b[1;33m,\u001b[0m \u001b[1;33m[\u001b[0m\u001b[0mRandomForestRegressor\u001b[0m\u001b[1;33m(\u001b[0m\u001b[1;33m)\u001b[0m\u001b[1;33m]\u001b[0m\u001b[1;33m)\u001b[0m\u001b[1;33m\u001b[0m\u001b[1;33m\u001b[0m\u001b[0m\n\u001b[0m",
      "\u001b[1;32mC:\\Users\\PKALAN~1\\AppData\\Local\\Temp/ipykernel_18028/1902315958.py\u001b[0m in \u001b[0;36mcalculate_features_and_train_and_evaluate_models\u001b[1;34m(calculate_features, models)\u001b[0m\n\u001b[0;32m      1\u001b[0m \u001b[1;32mdef\u001b[0m \u001b[0mcalculate_features_and_train_and_evaluate_models\u001b[0m\u001b[1;33m(\u001b[0m\u001b[0mcalculate_features\u001b[0m\u001b[1;33m,\u001b[0m \u001b[0mmodels\u001b[0m\u001b[1;33m)\u001b[0m\u001b[1;33m:\u001b[0m\u001b[1;33m\u001b[0m\u001b[1;33m\u001b[0m\u001b[0m\n\u001b[0;32m      2\u001b[0m     \u001b[0mX_train\u001b[0m \u001b[1;33m=\u001b[0m \u001b[0mcalculate_features\u001b[0m\u001b[1;33m(\u001b[0m\u001b[0mtraining_df\u001b[0m\u001b[1;33m)\u001b[0m\u001b[1;33m\u001b[0m\u001b[1;33m\u001b[0m\u001b[0m\n\u001b[1;32m----> 3\u001b[1;33m     \u001b[0mtrain_and_evaluate_models\u001b[0m\u001b[1;33m(\u001b[0m\u001b[0mmodels\u001b[0m\u001b[1;33m,\u001b[0m \u001b[0mX_train\u001b[0m\u001b[1;33m)\u001b[0m\u001b[1;33m\u001b[0m\u001b[1;33m\u001b[0m\u001b[0m\n\u001b[0m",
      "\u001b[1;32mC:\\Users\\PKALAN~1\\AppData\\Local\\Temp/ipykernel_18028/254319943.py\u001b[0m in \u001b[0;36mtrain_and_evaluate_models\u001b[1;34m(models, X_train)\u001b[0m\n\u001b[0;32m      1\u001b[0m \u001b[1;32mdef\u001b[0m \u001b[0mtrain_and_evaluate_models\u001b[0m\u001b[1;33m(\u001b[0m\u001b[0mmodels\u001b[0m\u001b[1;33m,\u001b[0m \u001b[0mX_train\u001b[0m\u001b[1;33m)\u001b[0m\u001b[1;33m:\u001b[0m\u001b[1;33m\u001b[0m\u001b[1;33m\u001b[0m\u001b[0m\n\u001b[0;32m      2\u001b[0m     \u001b[1;32mfor\u001b[0m \u001b[0mmodel\u001b[0m \u001b[1;32min\u001b[0m \u001b[0mmodels\u001b[0m\u001b[1;33m:\u001b[0m\u001b[1;33m\u001b[0m\u001b[1;33m\u001b[0m\u001b[0m\n\u001b[1;32m----> 3\u001b[1;33m         \u001b[0mtrain_and_evaluate_model\u001b[0m\u001b[1;33m(\u001b[0m\u001b[0mmodel\u001b[0m\u001b[1;33m,\u001b[0m \u001b[0mX_train\u001b[0m\u001b[1;33m)\u001b[0m\u001b[1;33m\u001b[0m\u001b[1;33m\u001b[0m\u001b[0m\n\u001b[0m",
      "\u001b[1;32mC:\\Users\\PKALAN~1\\AppData\\Local\\Temp/ipykernel_18028/368068411.py\u001b[0m in \u001b[0;36mtrain_and_evaluate_model\u001b[1;34m(model, X_train)\u001b[0m\n\u001b[0;32m      1\u001b[0m \u001b[1;32mdef\u001b[0m \u001b[0mtrain_and_evaluate_model\u001b[0m\u001b[1;33m(\u001b[0m\u001b[0mmodel\u001b[0m\u001b[1;33m,\u001b[0m \u001b[0mX_train\u001b[0m\u001b[1;33m)\u001b[0m\u001b[1;33m:\u001b[0m\u001b[1;33m\u001b[0m\u001b[1;33m\u001b[0m\u001b[0m\n\u001b[1;32m----> 2\u001b[1;33m     \u001b[0mmodel\u001b[0m\u001b[1;33m.\u001b[0m\u001b[0mfit\u001b[0m\u001b[1;33m(\u001b[0m\u001b[0mX_train\u001b[0m\u001b[1;33m,\u001b[0m \u001b[0my_train\u001b[0m\u001b[1;33m)\u001b[0m\u001b[1;33m\u001b[0m\u001b[1;33m\u001b[0m\u001b[0m\n\u001b[0m\u001b[0;32m      3\u001b[0m     \u001b[0mprint\u001b[0m\u001b[1;33m(\u001b[0m\u001b[0mevaluate_model\u001b[0m\u001b[1;33m(\u001b[0m\u001b[0mmodel\u001b[0m\u001b[1;33m,\u001b[0m \u001b[0mX_train\u001b[0m\u001b[1;33m,\u001b[0m \u001b[0my_train\u001b[0m\u001b[1;33m)\u001b[0m\u001b[1;33m)\u001b[0m\u001b[1;33m\u001b[0m\u001b[1;33m\u001b[0m\u001b[0m\n",
      "\u001b[1;32mc:\\Users\\Pkalanski\\Anaconda3\\lib\\site-packages\\sklearn\\ensemble\\_forest.py\u001b[0m in \u001b[0;36mfit\u001b[1;34m(self, X, y, sample_weight)\u001b[0m\n\u001b[0;32m    302\u001b[0m                 \u001b[1;34m\"sparse multilabel-indicator for y is not supported.\"\u001b[0m\u001b[1;33m\u001b[0m\u001b[1;33m\u001b[0m\u001b[0m\n\u001b[0;32m    303\u001b[0m             )\n\u001b[1;32m--> 304\u001b[1;33m         X, y = self._validate_data(X, y, multi_output=True,\n\u001b[0m\u001b[0;32m    305\u001b[0m                                    accept_sparse=\"csc\", dtype=DTYPE)\n\u001b[0;32m    306\u001b[0m         \u001b[1;32mif\u001b[0m \u001b[0msample_weight\u001b[0m \u001b[1;32mis\u001b[0m \u001b[1;32mnot\u001b[0m \u001b[1;32mNone\u001b[0m\u001b[1;33m:\u001b[0m\u001b[1;33m\u001b[0m\u001b[1;33m\u001b[0m\u001b[0m\n",
      "\u001b[1;32mc:\\Users\\Pkalanski\\Anaconda3\\lib\\site-packages\\sklearn\\base.py\u001b[0m in \u001b[0;36m_validate_data\u001b[1;34m(self, X, y, reset, validate_separately, **check_params)\u001b[0m\n\u001b[0;32m    431\u001b[0m                 \u001b[0my\u001b[0m \u001b[1;33m=\u001b[0m \u001b[0mcheck_array\u001b[0m\u001b[1;33m(\u001b[0m\u001b[0my\u001b[0m\u001b[1;33m,\u001b[0m \u001b[1;33m**\u001b[0m\u001b[0mcheck_y_params\u001b[0m\u001b[1;33m)\u001b[0m\u001b[1;33m\u001b[0m\u001b[1;33m\u001b[0m\u001b[0m\n\u001b[0;32m    432\u001b[0m             \u001b[1;32melse\u001b[0m\u001b[1;33m:\u001b[0m\u001b[1;33m\u001b[0m\u001b[1;33m\u001b[0m\u001b[0m\n\u001b[1;32m--> 433\u001b[1;33m                 \u001b[0mX\u001b[0m\u001b[1;33m,\u001b[0m \u001b[0my\u001b[0m \u001b[1;33m=\u001b[0m \u001b[0mcheck_X_y\u001b[0m\u001b[1;33m(\u001b[0m\u001b[0mX\u001b[0m\u001b[1;33m,\u001b[0m \u001b[0my\u001b[0m\u001b[1;33m,\u001b[0m \u001b[1;33m**\u001b[0m\u001b[0mcheck_params\u001b[0m\u001b[1;33m)\u001b[0m\u001b[1;33m\u001b[0m\u001b[1;33m\u001b[0m\u001b[0m\n\u001b[0m\u001b[0;32m    434\u001b[0m             \u001b[0mout\u001b[0m \u001b[1;33m=\u001b[0m \u001b[0mX\u001b[0m\u001b[1;33m,\u001b[0m \u001b[0my\u001b[0m\u001b[1;33m\u001b[0m\u001b[1;33m\u001b[0m\u001b[0m\n\u001b[0;32m    435\u001b[0m \u001b[1;33m\u001b[0m\u001b[0m\n",
      "\u001b[1;32mc:\\Users\\Pkalanski\\Anaconda3\\lib\\site-packages\\sklearn\\utils\\validation.py\u001b[0m in \u001b[0;36minner_f\u001b[1;34m(*args, **kwargs)\u001b[0m\n\u001b[0;32m     61\u001b[0m             \u001b[0mextra_args\u001b[0m \u001b[1;33m=\u001b[0m \u001b[0mlen\u001b[0m\u001b[1;33m(\u001b[0m\u001b[0margs\u001b[0m\u001b[1;33m)\u001b[0m \u001b[1;33m-\u001b[0m \u001b[0mlen\u001b[0m\u001b[1;33m(\u001b[0m\u001b[0mall_args\u001b[0m\u001b[1;33m)\u001b[0m\u001b[1;33m\u001b[0m\u001b[1;33m\u001b[0m\u001b[0m\n\u001b[0;32m     62\u001b[0m             \u001b[1;32mif\u001b[0m \u001b[0mextra_args\u001b[0m \u001b[1;33m<=\u001b[0m \u001b[1;36m0\u001b[0m\u001b[1;33m:\u001b[0m\u001b[1;33m\u001b[0m\u001b[1;33m\u001b[0m\u001b[0m\n\u001b[1;32m---> 63\u001b[1;33m                 \u001b[1;32mreturn\u001b[0m \u001b[0mf\u001b[0m\u001b[1;33m(\u001b[0m\u001b[1;33m*\u001b[0m\u001b[0margs\u001b[0m\u001b[1;33m,\u001b[0m \u001b[1;33m**\u001b[0m\u001b[0mkwargs\u001b[0m\u001b[1;33m)\u001b[0m\u001b[1;33m\u001b[0m\u001b[1;33m\u001b[0m\u001b[0m\n\u001b[0m\u001b[0;32m     64\u001b[0m \u001b[1;33m\u001b[0m\u001b[0m\n\u001b[0;32m     65\u001b[0m             \u001b[1;31m# extra_args > 0\u001b[0m\u001b[1;33m\u001b[0m\u001b[1;33m\u001b[0m\u001b[0m\n",
      "\u001b[1;32mc:\\Users\\Pkalanski\\Anaconda3\\lib\\site-packages\\sklearn\\utils\\validation.py\u001b[0m in \u001b[0;36mcheck_X_y\u001b[1;34m(X, y, accept_sparse, accept_large_sparse, dtype, order, copy, force_all_finite, ensure_2d, allow_nd, multi_output, ensure_min_samples, ensure_min_features, y_numeric, estimator)\u001b[0m\n\u001b[0;32m    869\u001b[0m         \u001b[1;32mraise\u001b[0m \u001b[0mValueError\u001b[0m\u001b[1;33m(\u001b[0m\u001b[1;34m\"y cannot be None\"\u001b[0m\u001b[1;33m)\u001b[0m\u001b[1;33m\u001b[0m\u001b[1;33m\u001b[0m\u001b[0m\n\u001b[0;32m    870\u001b[0m \u001b[1;33m\u001b[0m\u001b[0m\n\u001b[1;32m--> 871\u001b[1;33m     X = check_array(X, accept_sparse=accept_sparse,\n\u001b[0m\u001b[0;32m    872\u001b[0m                     \u001b[0maccept_large_sparse\u001b[0m\u001b[1;33m=\u001b[0m\u001b[0maccept_large_sparse\u001b[0m\u001b[1;33m,\u001b[0m\u001b[1;33m\u001b[0m\u001b[1;33m\u001b[0m\u001b[0m\n\u001b[0;32m    873\u001b[0m                     \u001b[0mdtype\u001b[0m\u001b[1;33m=\u001b[0m\u001b[0mdtype\u001b[0m\u001b[1;33m,\u001b[0m \u001b[0morder\u001b[0m\u001b[1;33m=\u001b[0m\u001b[0morder\u001b[0m\u001b[1;33m,\u001b[0m \u001b[0mcopy\u001b[0m\u001b[1;33m=\u001b[0m\u001b[0mcopy\u001b[0m\u001b[1;33m,\u001b[0m\u001b[1;33m\u001b[0m\u001b[1;33m\u001b[0m\u001b[0m\n",
      "\u001b[1;32mc:\\Users\\Pkalanski\\Anaconda3\\lib\\site-packages\\sklearn\\utils\\validation.py\u001b[0m in \u001b[0;36minner_f\u001b[1;34m(*args, **kwargs)\u001b[0m\n\u001b[0;32m     61\u001b[0m             \u001b[0mextra_args\u001b[0m \u001b[1;33m=\u001b[0m \u001b[0mlen\u001b[0m\u001b[1;33m(\u001b[0m\u001b[0margs\u001b[0m\u001b[1;33m)\u001b[0m \u001b[1;33m-\u001b[0m \u001b[0mlen\u001b[0m\u001b[1;33m(\u001b[0m\u001b[0mall_args\u001b[0m\u001b[1;33m)\u001b[0m\u001b[1;33m\u001b[0m\u001b[1;33m\u001b[0m\u001b[0m\n\u001b[0;32m     62\u001b[0m             \u001b[1;32mif\u001b[0m \u001b[0mextra_args\u001b[0m \u001b[1;33m<=\u001b[0m \u001b[1;36m0\u001b[0m\u001b[1;33m:\u001b[0m\u001b[1;33m\u001b[0m\u001b[1;33m\u001b[0m\u001b[0m\n\u001b[1;32m---> 63\u001b[1;33m                 \u001b[1;32mreturn\u001b[0m \u001b[0mf\u001b[0m\u001b[1;33m(\u001b[0m\u001b[1;33m*\u001b[0m\u001b[0margs\u001b[0m\u001b[1;33m,\u001b[0m \u001b[1;33m**\u001b[0m\u001b[0mkwargs\u001b[0m\u001b[1;33m)\u001b[0m\u001b[1;33m\u001b[0m\u001b[1;33m\u001b[0m\u001b[0m\n\u001b[0m\u001b[0;32m     64\u001b[0m \u001b[1;33m\u001b[0m\u001b[0m\n\u001b[0;32m     65\u001b[0m             \u001b[1;31m# extra_args > 0\u001b[0m\u001b[1;33m\u001b[0m\u001b[1;33m\u001b[0m\u001b[0m\n",
      "\u001b[1;32mc:\\Users\\Pkalanski\\Anaconda3\\lib\\site-packages\\sklearn\\utils\\validation.py\u001b[0m in \u001b[0;36mcheck_array\u001b[1;34m(array, accept_sparse, accept_large_sparse, dtype, order, copy, force_all_finite, ensure_2d, allow_nd, ensure_min_samples, ensure_min_features, estimator)\u001b[0m\n\u001b[0;32m    718\u001b[0m \u001b[1;33m\u001b[0m\u001b[0m\n\u001b[0;32m    719\u001b[0m         \u001b[1;32mif\u001b[0m \u001b[0mforce_all_finite\u001b[0m\u001b[1;33m:\u001b[0m\u001b[1;33m\u001b[0m\u001b[1;33m\u001b[0m\u001b[0m\n\u001b[1;32m--> 720\u001b[1;33m             _assert_all_finite(array,\n\u001b[0m\u001b[0;32m    721\u001b[0m                                allow_nan=force_all_finite == 'allow-nan')\n\u001b[0;32m    722\u001b[0m \u001b[1;33m\u001b[0m\u001b[0m\n",
      "\u001b[1;32mc:\\Users\\Pkalanski\\Anaconda3\\lib\\site-packages\\sklearn\\utils\\validation.py\u001b[0m in \u001b[0;36m_assert_all_finite\u001b[1;34m(X, allow_nan, msg_dtype)\u001b[0m\n\u001b[0;32m    101\u001b[0m                 not allow_nan and not np.isfinite(X).all()):\n\u001b[0;32m    102\u001b[0m             \u001b[0mtype_err\u001b[0m \u001b[1;33m=\u001b[0m \u001b[1;34m'infinity'\u001b[0m \u001b[1;32mif\u001b[0m \u001b[0mallow_nan\u001b[0m \u001b[1;32melse\u001b[0m \u001b[1;34m'NaN, infinity'\u001b[0m\u001b[1;33m\u001b[0m\u001b[1;33m\u001b[0m\u001b[0m\n\u001b[1;32m--> 103\u001b[1;33m             raise ValueError(\n\u001b[0m\u001b[0;32m    104\u001b[0m                     \u001b[0mmsg_err\u001b[0m\u001b[1;33m.\u001b[0m\u001b[0mformat\u001b[0m\u001b[1;33m\u001b[0m\u001b[1;33m\u001b[0m\u001b[0m\n\u001b[0;32m    105\u001b[0m                     (type_err,\n",
      "\u001b[1;31mValueError\u001b[0m: Input contains NaN, infinity or a value too large for dtype('float32')."
     ]
    }
   ],
   "source": [
    "calculate_features_and_train_and_evaluate_models(calculate_features3, [RandomForestRegressor()])"
   ]
  },
  {
   "cell_type": "code",
   "execution_count": null,
   "metadata": {},
   "outputs": [],
   "source": []
  }
 ],
 "metadata": {
  "kernelspec": {
   "display_name": "Python 3",
   "language": "python",
   "name": "python3"
  },
  "language_info": {
   "codemirror_mode": {
    "name": "ipython",
    "version": 3
   },
   "file_extension": ".py",
   "mimetype": "text/x-python",
   "name": "python",
   "nbconvert_exporter": "python",
   "pygments_lexer": "ipython3",
   "version": "3.8.5-final"
  },
  "orig_nbformat": 4,
  "vscode": {
   "interpreter": {
    "hash": "025a0d68ed8a9c85b1b7dd038b1809ba1446caa53d4c0cc85de40bb0d7fe77a6"
   }
  }
 },
 "nbformat": 4,
 "nbformat_minor": 2
}